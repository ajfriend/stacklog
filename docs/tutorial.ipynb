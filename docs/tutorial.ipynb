{
 "cells": [
  {
   "cell_type": "markdown",
   "metadata": {},
   "source": [
    "# stacklog\n",
    "Nested benchmarking and timing code.\n",
    "\n",
    "Stacklog uses a `Logger` object to capture timing output, so you can use multiple logging objects at once.\n",
    "The simplest interface is at the module level, and uses the `'default'` `Logger`."
   ]
  },
  {
   "cell_type": "code",
   "execution_count": 1,
   "metadata": {
    "collapsed": true
   },
   "outputs": [],
   "source": [
    "import stacklog\n",
    "import time\n",
    "\n",
    "def comp(t=.1):\n",
    "    time.sleep(t)"
   ]
  },
  {
   "cell_type": "markdown",
   "metadata": {},
   "source": [
    "The `Logger` accumulates input, but we can make sure we have an empty log with `reset`."
   ]
  },
  {
   "cell_type": "code",
   "execution_count": 2,
   "metadata": {
    "collapsed": true
   },
   "outputs": [],
   "source": [
    "stacklog.reset()"
   ]
  },
  {
   "cell_type": "markdown",
   "metadata": {},
   "source": [
    "- `tic()` and `toc()` can be used to time a section of code\n",
    "- `tic()` needs a key to identify the result in a dictionary\n",
    "- multiple timings with the same key get appended to a list\n",
    "- `log()` is an interface to the dictionary of all the `Logger` objects\n",
    "- without arguments `log()` returns the default `Logger` (same as `log('default')`)"
   ]
  },
  {
   "cell_type": "code",
   "execution_count": 13,
   "metadata": {
    "collapsed": false
   },
   "outputs": [
    {
     "data": {
      "text/plain": [
       "Stack item 0:\n",
       "\n",
       "{'multi': [0.1091299057006836, 0.11002206802368164, 0.10144186019897461],\n",
       " 'test1': 0.10390782356262207}"
      ]
     },
     "execution_count": 13,
     "metadata": {},
     "output_type": "execute_result"
    }
   ],
   "source": [
    "from stacklog import tic, toc, log, reset\n",
    "\n",
    "reset()\n",
    "\n",
    "# normal tic and toc for timing\n",
    "tic('test1')\n",
    "comp()\n",
    "toc()\n",
    "\n",
    "# with the same key, times get appended to a list\n",
    "tic('multi')\n",
    "comp()\n",
    "toc()\n",
    "\n",
    "tic('multi')\n",
    "comp()\n",
    "toc()\n",
    "\n",
    "tic('multi')\n",
    "comp()\n",
    "toc()\n",
    "\n",
    "# pretty print the result\n",
    "log()"
   ]
  },
  {
   "cell_type": "markdown",
   "metadata": {},
   "source": [
    "- the `Logger` contains a dictionary of all recorded timings\n",
    "- `peek` exposes that dictionary without reseting it\n",
    "- `pull` exposes the dictionary and reset the `Logger`\n",
    "- `pretty_dict` will attemp to pretty print the dictionary\n",
    "- `pretty_dict`'s `clean` argument defaults to `True`, which will remove empty data structures\n",
    "and replace single-element lists with their value"
   ]
  },
  {
   "cell_type": "code",
   "execution_count": 8,
   "metadata": {
    "collapsed": false
   },
   "outputs": [
    {
     "name": "stdout",
     "output_type": "stream",
     "text": [
      "{'multi': [(0.10065293312072754, {}),\n",
      "           (0.10074996948242188, {}),\n",
      "           (0.10254788398742676, {})],\n",
      " 'test1': [(0.10051989555358887, {})]}\n",
      "##########\n",
      "{'multi': [0.10065293312072754, 0.10074996948242188, 0.10254788398742676],\n",
      " 'test1': 0.10051989555358887}\n"
     ]
    }
   ],
   "source": [
    "from stacklog import peek, pull, pretty_dict\n",
    "\n",
    "# grab the dictionary of the log\n",
    "result = peek()\n",
    "\n",
    "# print the full data structure\n",
    "pretty_dict(result, clean=False)\n",
    "print \"#\"*10\n",
    "\n",
    "# pretty print a cleaned up version (removing empty containers and extra parens)\n",
    "pretty_dict(result)"
   ]
  },
  {
   "cell_type": "markdown",
   "metadata": {},
   "source": [
    "- we can also use the `timer` context manager and the `with` statement instead of `tic` and `toc`"
   ]
  },
  {
   "cell_type": "code",
   "execution_count": 9,
   "metadata": {
    "collapsed": false
   },
   "outputs": [
    {
     "data": {
      "text/plain": [
       "Stack item 0:\n",
       "\n",
       "{'multi': [0.10065293312072754, 0.10074996948242188, 0.10254788398742676],\n",
       " 'something new': 0.10142993927001953,\n",
       " 'test1': 0.10051989555358887}"
      ]
     },
     "execution_count": 9,
     "metadata": {},
     "output_type": "execute_result"
    }
   ],
   "source": [
    "from stacklog import timer\n",
    "\n",
    "# can also use a context manager to time instead of tic and toc\n",
    "with timer('something new'):\n",
    "    comp()\n",
    "\n",
    "log()"
   ]
  },
  {
   "cell_type": "markdown",
   "metadata": {},
   "source": [
    "- `pull` returns the `Logger`'s dictionary and resets the log"
   ]
  },
  {
   "cell_type": "code",
   "execution_count": 11,
   "metadata": {
    "collapsed": false
   },
   "outputs": [
    {
     "name": "stdout",
     "output_type": "stream",
     "text": [
      "{'multi': [0.10065293312072754, 0.10074996948242188, 0.10254788398742676],\n",
      " 'something new': 0.10142993927001953,\n",
      " 'test1': 0.10051989555358887}\n",
      "##########\n"
     ]
    },
    {
     "data": {
      "text/plain": [
       "{'all alone': [(0.10231685638427734, {})]}"
      ]
     },
     "execution_count": 11,
     "metadata": {},
     "output_type": "execute_result"
    }
   ],
   "source": [
    "result1 = pull()\n",
    "pretty_dict(result1)\n",
    "\n",
    "print \"#\"*10\n",
    "\n",
    "with timer('all alone'):\n",
    "    comp()\n",
    "    \n",
    "peek()"
   ]
  },
  {
   "cell_type": "markdown",
   "metadata": {},
   "source": [
    "## nested timing\n",
    "- nesting `tic/toc` and `timer` creates more complicated, hierarchical timing structures"
   ]
  },
  {
   "cell_type": "code",
   "execution_count": 15,
   "metadata": {
    "collapsed": false,
    "scrolled": true
   },
   "outputs": [
    {
     "name": "stdout",
     "output_type": "stream",
     "text": [
      "{'outer': (0.8253848552703857,\n",
      "           {'another inner': (0.7232990264892578,\n",
      "                              {'way in there': [0.1048269271850586,\n",
      "                                                0.1003260612487793,\n",
      "                                                0.10056900978088379,\n",
      "                                                0.10022306442260742]}),\n",
      "            'inner': 0.10188698768615723})}\n"
     ]
    }
   ],
   "source": [
    "reset()\n",
    "\n",
    "with timer('outer'):\n",
    "    tic('inner')\n",
    "    comp()\n",
    "    toc()\n",
    "    \n",
    "    with timer('another inner'):\n",
    "        comp()\n",
    "        comp()\n",
    "        comp()\n",
    "        for i in range(4):\n",
    "            with timer('way in there'):\n",
    "                comp()\n",
    "\n",
    "pretty_dict(peek())"
   ]
  },
  {
   "cell_type": "markdown",
   "metadata": {},
   "source": [
    "- we can use `lost_time` to see the difference between a parent timer and the sum of its children to see how much time is unaccounted for"
   ]
  },
  {
   "cell_type": "code",
   "execution_count": 19,
   "metadata": {
    "collapsed": false,
    "scrolled": true
   },
   "outputs": [
    {
     "data": {
      "text/plain": [
       "{'outer': [(0.00019884109497070312,\n",
       "   {'another inner': [(0.3173539638519287, {})]})]}"
      ]
     },
     "execution_count": 19,
     "metadata": {},
     "output_type": "execute_result"
    }
   ],
   "source": [
    "from stacklog import lost_time\n",
    "\n",
    "lost_time(peek())"
   ]
  },
  {
   "cell_type": "markdown",
   "metadata": {},
   "source": [
    "- we can also use `pretty_dict` with the output of `lost_time`"
   ]
  },
  {
   "cell_type": "code",
   "execution_count": 20,
   "metadata": {
    "collapsed": false
   },
   "outputs": [
    {
     "name": "stdout",
     "output_type": "stream",
     "text": [
      "{'outer': (0.00019884109497070312, {'another inner': 0.3173539638519287})}\n"
     ]
    }
   ],
   "source": [
    "pretty_dict(lost_time(peek()))"
   ]
  },
  {
   "cell_type": "markdown",
   "metadata": {},
   "source": [
    "- notice that outer has very little unaccounted time\n",
    "- this is because the 'outer' timer is about equal to the sum of its children 'another inner' and 'inner'\n",
    "- however, the lost time for 'another inner' is about .3 seconds, which is exactly how long the untimed `comp()` functions should take to execute\n",
    "- if we account for them, we shoun't have such a large loss"
   ]
  },
  {
   "cell_type": "code",
   "execution_count": 21,
   "metadata": {
    "collapsed": false
   },
   "outputs": [
    {
     "name": "stdout",
     "output_type": "stream",
     "text": [
      "{'outer': (0.8192839622497559,\n",
      "           {'another inner': (0.7142300605773926,\n",
      "                              {'previously unaccounted for': 0.3051471710205078,\n",
      "                               'way in there': [0.10043597221374512,\n",
      "                                                0.10362792015075684,\n",
      "                                                0.10380291938781738,\n",
      "                                                0.10069108009338379]}),\n",
      "            'inner': 0.10493993759155273})}\n"
     ]
    }
   ],
   "source": [
    "reset()\n",
    "\n",
    "with timer('outer'):\n",
    "    tic('inner')\n",
    "    comp()\n",
    "    toc()\n",
    "    \n",
    "    with timer('another inner'):\n",
    "        with timer('previously unaccounted for'):\n",
    "            comp()\n",
    "            comp()\n",
    "            comp()\n",
    "        for i in range(4):\n",
    "            with timer('way in there'):\n",
    "                comp()\n",
    "\n",
    "pretty_dict(peek())"
   ]
  },
  {
   "cell_type": "markdown",
   "metadata": {},
   "source": [
    "- we see that all the times add up as expected"
   ]
  },
  {
   "cell_type": "code",
   "execution_count": 22,
   "metadata": {
    "collapsed": false
   },
   "outputs": [
    {
     "name": "stdout",
     "output_type": "stream",
     "text": [
      "{'outer': (0.00011396408081054688, {'another inner': 0.0005249977111816406})}\n"
     ]
    }
   ],
   "source": [
    "pretty_dict(lost_time(peek()))"
   ]
  },
  {
   "cell_type": "markdown",
   "metadata": {},
   "source": [
    "# `Logger` interface\n",
    "\n",
    "You can use multiple `Logger`s at once, by calling the member methods of the `Logger` objects."
   ]
  },
  {
   "cell_type": "code",
   "execution_count": 3,
   "metadata": {
    "collapsed": false
   },
   "outputs": [
    {
     "name": "stdout",
     "output_type": "stream",
     "text": [
      "Stack item 0:\n",
      "\n",
      "{'outer': 0.41005778312683105}\n",
      "Stack item 0:\n",
      "\n",
      "{'something else': 0.5142879486083984}\n"
     ]
    }
   ],
   "source": [
    "from stacklog import Logger\n",
    "\n",
    "a = Logger()\n",
    "b = Logger()\n",
    "\n",
    "a.tic('outer')\n",
    "comp()\n",
    "b.tic('something else')\n",
    "comp()\n",
    "comp()\n",
    "comp()\n",
    "a.toc()\n",
    "comp()\n",
    "comp()\n",
    "b.toc()\n",
    "\n",
    "print a\n",
    "print b"
   ]
  },
  {
   "cell_type": "markdown",
   "metadata": {},
   "source": [
    "# function decorators\n",
    "TODO"
   ]
  },
  {
   "cell_type": "markdown",
   "metadata": {},
   "source": [
    "# parallel interface\n",
    "TODO"
   ]
  }
 ],
 "metadata": {
  "kernelspec": {
   "display_name": "Python 2",
   "language": "python",
   "name": "python2"
  },
  "language_info": {
   "codemirror_mode": {
    "name": "ipython",
    "version": 2
   },
   "file_extension": ".py",
   "mimetype": "text/x-python",
   "name": "python",
   "nbconvert_exporter": "python",
   "pygments_lexer": "ipython2",
   "version": "2.7.9"
  }
 },
 "nbformat": 4,
 "nbformat_minor": 0
}

{
 "cells": [
  {
   "cell_type": "code",
   "execution_count": 1,
   "metadata": {
    "collapsed": true
   },
   "outputs": [],
   "source": [
    "import stacklog"
   ]
  },
  {
   "cell_type": "code",
   "execution_count": 2,
   "metadata": {
    "collapsed": false
   },
   "outputs": [
    {
     "name": "stdout",
     "output_type": "stream",
     "text": [
      "{'multi': [0.03172779083251953, 0.03265094757080078, 0.02910900115966797],\n",
      " 'test1': 0.05547499656677246}\n"
     ]
    }
   ],
   "source": [
    "def expensive(n=6):\n",
    "    sum(range(10**n))\n",
    "\n",
    "# normal tic and toc for timing\n",
    "stacklog.tic('test1')\n",
    "expensive()\n",
    "stacklog.toc()\n",
    "\n",
    "# with the same key, times get appended to a list\n",
    "stacklog.tic('multi')\n",
    "expensive()\n",
    "stacklog.toc()\n",
    "\n",
    "stacklog.tic('multi')\n",
    "expensive()\n",
    "stacklog.toc()\n",
    "\n",
    "stacklog.tic('multi')\n",
    "expensive()\n",
    "stacklog.toc()\n",
    "\n",
    "# grab the log\n",
    "result = stacklog.pull()\n",
    "\n",
    "#pretty print the result\n",
    "stacklog.pretty(result)"
   ]
  },
  {
   "cell_type": "code",
   "execution_count": 3,
   "metadata": {
    "collapsed": false
   },
   "outputs": [
    {
     "data": {
      "text/plain": [
       "{'multi': [(0.03172779083251953, {}),\n",
       "  (0.03265094757080078, {}),\n",
       "  (0.02910900115966797, {})],\n",
       " 'test1': [(0.05547499656677246, {})]}"
      ]
     },
     "execution_count": 3,
     "metadata": {},
     "output_type": "execute_result"
    }
   ],
   "source": [
    "result"
   ]
  },
  {
   "cell_type": "code",
   "execution_count": 4,
   "metadata": {
    "collapsed": false
   },
   "outputs": [
    {
     "data": {
      "text/plain": [
       "{'multi': [(0.03172779083251953, {}),\n",
       "  (0.03265094757080078, {}),\n",
       "  (0.02910900115966797, {})],\n",
       " 'test1': [(0.05547499656677246, {})]}"
      ]
     },
     "execution_count": 4,
     "metadata": {},
     "output_type": "execute_result"
    }
   ],
   "source": [
    "# the result has a lot of empyt containers.\n",
    "# these hold times for sub functions\n",
    "result"
   ]
  },
  {
   "cell_type": "code",
   "execution_count": 5,
   "metadata": {
    "collapsed": false
   },
   "outputs": [
    {
     "name": "stdout",
     "output_type": "stream",
     "text": [
      "{'some shit': 0.0360260009765625}\n"
     ]
    }
   ],
   "source": [
    "# using with statements instead of tic and toc\n",
    "\n",
    "with stacklog.timer('some shit'):\n",
    "    expensive()\n",
    "\n",
    "stacklog.pretty(stacklog.pull())"
   ]
  },
  {
   "cell_type": "code",
   "execution_count": 6,
   "metadata": {
    "collapsed": false
   },
   "outputs": [
    {
     "name": "stdout",
     "output_type": "stream",
     "text": [
      "{'some shit': (17.426125049591064,\n",
      "               {'another inner': (17.387383937835693,\n",
      "                                  {'deep in there': [6.755695104598999,\n",
      "                                                     3.4345760345458984,\n",
      "                                                     3.271955966949463,\n",
      "                                                     3.846698045730591]}),\n",
      "                'inner': 0.03858304023742676})}\n"
     ]
    }
   ],
   "source": [
    "# nested\n",
    "stacklog.reset()\n",
    "with stacklog.timer('some shit'):\n",
    "    stacklog.tic('inner')\n",
    "    expensive()\n",
    "    stacklog.toc()\n",
    "    \n",
    "    with stacklog.timer('another inner'):\n",
    "        expensive()\n",
    "        expensive()\n",
    "        for i in range(4):\n",
    "            with stacklog.timer('deep in there'):\n",
    "                expensive(8)\n",
    "\n",
    "stacklog.pretty(stacklog.pull())"
   ]
  },
  {
   "cell_type": "code",
   "execution_count": 5,
   "metadata": {
    "collapsed": true
   },
   "outputs": [],
   "source": [
    "# above, the inner times should sum up to about their parent's run time"
   ]
  },
  {
   "cell_type": "code",
   "execution_count": null,
   "metadata": {
    "collapsed": true
   },
   "outputs": [],
   "source": []
  }
 ],
 "metadata": {
  "kernelspec": {
   "display_name": "Python 2",
   "language": "python",
   "name": "python2"
  },
  "language_info": {
   "codemirror_mode": {
    "name": "ipython",
    "version": 2
   },
   "file_extension": ".py",
   "mimetype": "text/x-python",
   "name": "python",
   "nbconvert_exporter": "python",
   "pygments_lexer": "ipython2",
   "version": "2.7.9"
  }
 },
 "nbformat": 4,
 "nbformat_minor": 0
}

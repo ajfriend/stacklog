{
 "cells": [
  {
   "cell_type": "code",
   "execution_count": 1,
   "metadata": {
    "collapsed": true
   },
   "outputs": [],
   "source": [
    "import stacklog"
   ]
  },
  {
   "cell_type": "code",
   "execution_count": 2,
   "metadata": {
    "collapsed": false
   },
   "outputs": [
    {
     "ename": "AttributeError",
     "evalue": "'module' object has no attribute 'tic'",
     "output_type": "error",
     "traceback": [
      "\u001b[0;31m---------------------------------------------------------------------------\u001b[0m",
      "\u001b[0;31mAttributeError\u001b[0m                            Traceback (most recent call last)",
      "\u001b[0;32m<ipython-input-2-7b4e4764e620>\u001b[0m in \u001b[0;36m<module>\u001b[0;34m()\u001b[0m\n\u001b[1;32m      3\u001b[0m \u001b[0;34m\u001b[0m\u001b[0m\n\u001b[1;32m      4\u001b[0m \u001b[0;31m# normal tic and toc for timing\u001b[0m\u001b[0;34m\u001b[0m\u001b[0;34m\u001b[0m\u001b[0m\n\u001b[0;32m----> 5\u001b[0;31m \u001b[0mstacklog\u001b[0m\u001b[0;34m.\u001b[0m\u001b[0mtic\u001b[0m\u001b[0;34m(\u001b[0m\u001b[0;34m'test1'\u001b[0m\u001b[0;34m)\u001b[0m\u001b[0;34m\u001b[0m\u001b[0m\n\u001b[0m\u001b[1;32m      6\u001b[0m \u001b[0mexpensive\u001b[0m\u001b[0;34m(\u001b[0m\u001b[0;34m)\u001b[0m\u001b[0;34m\u001b[0m\u001b[0m\n\u001b[1;32m      7\u001b[0m \u001b[0mstacklog\u001b[0m\u001b[0;34m.\u001b[0m\u001b[0mtoc\u001b[0m\u001b[0;34m(\u001b[0m\u001b[0;34m)\u001b[0m\u001b[0;34m\u001b[0m\u001b[0m\n",
      "\u001b[0;31mAttributeError\u001b[0m: 'module' object has no attribute 'tic'"
     ]
    }
   ],
   "source": [
    "def expensive(n=6):\n",
    "    sum(range(10**n))\n",
    "\n",
    "# normal tic and toc for timing\n",
    "stacklog.tic('test1')\n",
    "expensive()\n",
    "stacklog.toc()\n",
    "\n",
    "# with the same key, times get appended to a list\n",
    "stacklog.tic('multi')\n",
    "expensive()\n",
    "stacklog.toc()\n",
    "\n",
    "stacklog.tic('multi')\n",
    "expensive()\n",
    "stacklog.toc()\n",
    "\n",
    "stacklog.tic('multi')\n",
    "expensive()\n",
    "stacklog.toc()\n",
    "\n",
    "# grab the log\n",
    "result = stacklog.pull()\n",
    "\n",
    "#pretty print the result\n",
    "stacklog.pretty(result)"
   ]
  },
  {
   "cell_type": "code",
   "execution_count": 3,
   "metadata": {
    "collapsed": false
   },
   "outputs": [
    {
     "data": {
      "text/plain": [
       "{'multi': [(0.03172779083251953, {}),\n",
       "  (0.03265094757080078, {}),\n",
       "  (0.02910900115966797, {})],\n",
       " 'test1': [(0.05547499656677246, {})]}"
      ]
     },
     "execution_count": 3,
     "metadata": {},
     "output_type": "execute_result"
    }
   ],
   "source": [
    "result"
   ]
  },
  {
   "cell_type": "code",
   "execution_count": 4,
   "metadata": {
    "collapsed": false
   },
   "outputs": [
    {
     "data": {
      "text/plain": [
       "{'multi': [(0.03172779083251953, {}),\n",
       "  (0.03265094757080078, {}),\n",
       "  (0.02910900115966797, {})],\n",
       " 'test1': [(0.05547499656677246, {})]}"
      ]
     },
     "execution_count": 4,
     "metadata": {},
     "output_type": "execute_result"
    }
   ],
   "source": [
    "# the result has a lot of empyt containers.\n",
    "# these hold times for sub functions\n",
    "result"
   ]
  },
  {
   "cell_type": "code",
   "execution_count": 5,
   "metadata": {
    "collapsed": false
   },
   "outputs": [
    {
     "name": "stdout",
     "output_type": "stream",
     "text": [
      "{'some shit': 0.0360260009765625}\n"
     ]
    }
   ],
   "source": [
    "# using with statements instead of tic and toc\n",
    "\n",
    "with stacklog.timer('some shit'):\n",
    "    expensive()\n",
    "\n",
    "stacklog.pretty(stacklog.pull())"
   ]
  },
  {
   "cell_type": "code",
   "execution_count": 6,
   "metadata": {
    "collapsed": false
   },
   "outputs": [
    {
     "name": "stdout",
     "output_type": "stream",
     "text": [
      "{'some shit': (17.426125049591064,\n",
      "               {'another inner': (17.387383937835693,\n",
      "                                  {'deep in there': [6.755695104598999,\n",
      "                                                     3.4345760345458984,\n",
      "                                                     3.271955966949463,\n",
      "                                                     3.846698045730591]}),\n",
      "                'inner': 0.03858304023742676})}\n"
     ]
    }
   ],
   "source": [
    "# nested\n",
    "stacklog.reset()\n",
    "with stacklog.timer('some shit'):\n",
    "    stacklog.tic('inner')\n",
    "    expensive()\n",
    "    stacklog.toc()\n",
    "    \n",
    "    with stacklog.timer('another inner'):\n",
    "        expensive()\n",
    "        expensive()\n",
    "        for i in range(4):\n",
    "            with stacklog.timer('deep in there'):\n",
    "                expensive(8)\n",
    "\n",
    "stacklog.pretty(stacklog.pull())"
   ]
  },
  {
   "cell_type": "code",
   "execution_count": 5,
   "metadata": {
    "collapsed": true
   },
   "outputs": [],
   "source": [
    "# above, the inner times should sum up to about their parent's run time"
   ]
  },
  {
   "cell_type": "code",
   "execution_count": 7,
   "metadata": {
    "collapsed": false
   },
   "outputs": [],
   "source": [
    "def help(*children):\n",
    "    print children\n",
    "    print type(children)"
   ]
  },
  {
   "cell_type": "code",
   "execution_count": 8,
   "metadata": {
    "collapsed": false
   },
   "outputs": [
    {
     "name": "stdout",
     "output_type": "stream",
     "text": [
      "(1, 3, 4, 5)\n",
      "<type 'tuple'>\n"
     ]
    }
   ],
   "source": [
    "help(1,3,4,5)"
   ]
  },
  {
   "cell_type": "code",
   "execution_count": 13,
   "metadata": {
    "collapsed": false
   },
   "outputs": [
    {
     "ename": "TypeError",
     "evalue": "tic() takes exactly 2 arguments (1 given)",
     "output_type": "error",
     "traceback": [
      "\u001b[0;31m---------------------------------------------------------------------------\u001b[0m",
      "\u001b[0;31mTypeError\u001b[0m                                 Traceback (most recent call last)",
      "\u001b[0;32m<ipython-input-13-8013377ac761>\u001b[0m in \u001b[0;36m<module>\u001b[0;34m()\u001b[0m\n\u001b[1;32m      1\u001b[0m \u001b[0ma\u001b[0m \u001b[0;34m=\u001b[0m \u001b[0mstacklog\u001b[0m\u001b[0;34m.\u001b[0m\u001b[0mLogger\u001b[0m\u001b[0;34m(\u001b[0m\u001b[0;34m)\u001b[0m\u001b[0;34m\u001b[0m\u001b[0m\n\u001b[0;32m----> 2\u001b[0;31m \u001b[0mstacklog\u001b[0m\u001b[0;34m.\u001b[0m\u001b[0mLogger\u001b[0m\u001b[0;34m.\u001b[0m\u001b[0mtic\u001b[0m\u001b[0;34m(\u001b[0m\u001b[0ma\u001b[0m\u001b[0;34m)\u001b[0m\u001b[0;34m\u001b[0m\u001b[0m\n\u001b[0m",
      "\u001b[0;31mTypeError\u001b[0m: tic() takes exactly 2 arguments (1 given)"
     ]
    }
   ],
   "source": [
    "a = stacklog.Logger()\n",
    "stacklog.Logger.tic(a, )"
   ]
  },
  {
   "cell_type": "code",
   "execution_count": null,
   "metadata": {
    "collapsed": true
   },
   "outputs": [],
   "source": []
  }
 ],
 "metadata": {
  "kernelspec": {
   "display_name": "Python 2",
   "language": "python",
   "name": "python2"
  },
  "language_info": {
   "codemirror_mode": {
    "name": "ipython",
    "version": 2
   },
   "file_extension": ".py",
   "mimetype": "text/x-python",
   "name": "python",
   "nbconvert_exporter": "python",
   "pygments_lexer": "ipython2",
   "version": "2.7.9"
  }
 },
 "nbformat": 4,
 "nbformat_minor": 0
}
